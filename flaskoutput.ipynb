{
 "cells": [
  {
   "cell_type": "code",
   "execution_count": 20,
   "id": "53cac449",
   "metadata": {},
   "outputs": [
    {
     "name": "stdout",
     "output_type": "stream",
     "text": [
      "[\"China Vitae : Biography of Cui Tiankai | China Vitae | Home | Search | Reference | VIP Appearances | New Appointments | About | FAQ | Contact | [sources / revisions] | Compiled from the following sources: | Special biographic research | Wen Wei Publishing Company, Ltd. 2002-2006 | XINHUA Online (China View) | Revision History: | Biography Revised: | 7/29/2021 | Career Data Updated: | 7/29/2021 | Cui Tiankai | 崔天凯 | Former Ambassador to the United States | Born: | 1952 | Birthplace: | Shanghai Municipality | At-a-Glance | Biography | Career Data | Travel & Appearances | Full Listing | Biography Highlight | Cui Tiankai, male, was born in 1952. He is a native of Ningbo, Zhejiang Province. Majored in School of Foreign Languages of East China Normal University. Postgraduate from School of Advanced International Studies of Johns Hopkins University. Master of Public Administration. He was Vice-Minister of the Ministry of Foreign Affairs from 2010 to 2013, and prior to that, Chinese ambassador to Japan. | View complete biography | » | Recent Career Data | 2013—2021 | Ambassador | , | Chinese Embassy | USA | , | Washington D.C. | § | 2010—2013 | Vice-Minister | , | Ministry of Foreign Affairs | § | 2007—2010 | Ambassador | , | Chinese Embassy | Japan | , | Tokyo | 2006—2007 | Assistant Minister | , | Ministry of Foreign Affairs | 2003—2006 | Director | , | Ministry of Foreign Affairs | , | Asian Affairs Department | 2001—2003 | Director | , | Ministry of Foreign Affairs | , | Policy Research Office | 1999—2001 | Deputy Director | , | Ministry of Foreign Affairs | , | Policy Research Office | 1997—1999 | Counselor | , | Permanent Mission of the PRC to the United Nations | 1996—1997 | Deputy Director | , | Ministry of Foreign Affairs | , | Information Department | 1996—1997 | Spokesperson | , | Ministry of Foreign Affairs | View complete career data | » | Recent Travel & Appearances | 05/06/21 | Cui Tiankai says China will not acquiesce to any external attempt to destabilize Xinjiang | 03/26/21 | Cui Tiankai was interviewed by CNN's Christiane Amanpour, says Attempts to divide the world into different camps are not solutions to global challenges including the battle against the COVID-19 pandemic, climate change and poverty | 03/17/21 | Cui Tiankai said China will not compromise on core interests during the upcoming high-level strategic dialogue between top diplomats of China and the United States. | 05/05/20 | Cui Tiankai called on U.S. politicians to end the blame-China game and focus on tackling the COVID-19 pandemic which has killed over 70,000 Americans. | 04/11/20 | Cui Tiankai calls for greater global governance system, closer Sino-U.S. cooperation to better combat COVID-19, adds all countries should also reject politicization attempts | View more travel & appearance listing | » | Compare | Compare the backgrounds and careers of an unlimited number of officials whose biographies you have recently viewed. | Recently Viewed | [clear all] | Biographies | [clear] | Select officials you would like to compare: | Cui Tiankai | Strict comparison | Relaxed comparison | Appearances | [clear] | Institutions | [clear] | Locations | [clear] | Searches | [clear] | © 2003-2024 China Vitae | | Contact Us | | | Privacy | | | Donations\", '1952', 'Shanghai Municipality']\n"
     ]
    }
   ],
   "source": [
    "#2nd notebook (for running, and viewing the output):\n",
    "\n",
    "import requests\n",
    "\n",
    "# URL of the Flask route to send the POST request to\n",
    "url = 'http://127.0.0.1:3351/test1'\n",
    "input='Cui_Tiankai'\n",
    "ab = requests.post(url, json = input)\n",
    "print(ab.json()) #this is the output"
   ]
  }
 ],
 "metadata": {
  "kernelspec": {
   "display_name": "Python 3 (ipykernel)",
   "language": "python",
   "name": "python3"
  },
  "language_info": {
   "codemirror_mode": {
    "name": "ipython",
    "version": 3
   },
   "file_extension": ".py",
   "mimetype": "text/x-python",
   "name": "python",
   "nbconvert_exporter": "python",
   "pygments_lexer": "ipython3",
   "version": "3.11.7"
  }
 },
 "nbformat": 4,
 "nbformat_minor": 5
}
