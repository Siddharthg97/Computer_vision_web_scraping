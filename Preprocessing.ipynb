{
 "cells": [
  {
   "cell_type": "code",
   "execution_count": 5,
   "id": "139984e0",
   "metadata": {
    "scrolled": true
   },
   "outputs": [],
   "source": [
    "import numpy as np\n",
    "import pytesseract\n",
    "import cv2"
   ]
  },
  {
   "cell_type": "code",
   "execution_count": 6,
   "id": "3444029b",
   "metadata": {},
   "outputs": [],
   "source": [
    "# import passportmrz"
   ]
  },
  {
   "cell_type": "code",
   "execution_count": 2,
   "id": "88ee942c",
   "metadata": {},
   "outputs": [],
   "source": [
    "# Binarisation & Noise Removal\n",
    "def bw(original_image):\n",
    "    \"\"\"Binarise given image to make it black & white.\n",
    "\n",
    "    :param original_image: original image to be binarised\n",
    "    :return: binarised image\n",
    "    \"\"\"\n",
    "    t1 = original_image[0][0]\n",
    "    t2 = original_image[0][original_image.shape[1]-1]\n",
    "    t3 = original_image[original_image.shape[0]-1][0]\n",
    "    t4 = original_image[original_image.shape[0]-1][original_image.shape[1]-1]\n",
    "    t = min(t1, t2, t3, t4)\n",
    "    if t > 250:\n",
    "        bw_img = cv2.adaptiveThreshold(original_image, 255,\n",
    "                                       cv2.ADAPTIVE_THRESH_GAUSSIAN_C,\n",
    "                                       cv2.THRESH_BINARY, 15, 2)\n",
    "    else:\n",
    "        thresh, bw_img = cv2.threshold(original_image, t, 255,\n",
    "                                       cv2.THRESH_BINARY)\n",
    "    return bw_img"
   ]
  },
  {
   "cell_type": "code",
   "execution_count": 3,
   "id": "bcb8429b",
   "metadata": {},
   "outputs": [],
   "source": [
    "# Image Cropping\n",
    "def crop_image(original_image):\n",
    "    \"\"\"Crop margin out of given images.\n",
    "\n",
    "    :param original_image: original image to be cropped\n",
    "    :return: cropped image\n",
    "    \"\"\"\n",
    "    cut = 5     # Boundary of image that is definitely not text\n",
    "    x_list, y_list = [], []\n",
    "    corners = cv2.goodFeaturesToTrack(original_image, 200, 0.01, 6)\n",
    "    corners = np.int0(corners)\n",
    "    for i in corners:\n",
    "        x, y = i.ravel()\n",
    "        if x > cut and y > cut:\n",
    "            x_list.append(x)\n",
    "            y_list.append(y)\n",
    "    xl = min(x_list)\n",
    "    xr = max(x_list)\n",
    "    yt = min(y_list)\n",
    "    yb = max(y_list)\n",
    "\n",
    "    cr_img = cv2.copyMakeBorder(original_image[yt:yb, xl:xr],\n",
    "                                5, 5, 5, 5, cv2.BORDER_CONSTANT, value=255)\n",
    "    return cr_img"
   ]
  },
  {
   "cell_type": "code",
   "execution_count": 4,
   "id": "ceaa518c",
   "metadata": {},
   "outputs": [],
   "source": [
    "# Closing (Dilation -> Erosion)\n",
    "def morph_image(original_image):\n",
    "    \"\"\"Close(dilate and erode) given image to erase occluding lines.\n",
    "\n",
    "    :param original_image: original image to be closed\n",
    "    :return: closed image\n",
    "    \"\"\"\n",
    "    kernel = cv2.getStructuringElement(cv2.MORPH_RECT, (2, 4))\n",
    "    mor_img = cv2.morphologyEx(original_image, cv2.MORPH_CLOSE, kernel)\n",
    "    return mor_img"
   ]
  },
  {
   "cell_type": "code",
   "execution_count": 5,
   "id": "11108ded",
   "metadata": {},
   "outputs": [],
   "source": [
    "# Blur image\n",
    "def blur_image(original_image):\n",
    "    \"\"\"Blur image using median filter.\n",
    "\n",
    "    :param original_image: original image to be blurred\n",
    "    :return: blurred image\n",
    "    \"\"\"\n",
    "    return cv2.medianBlur(original_image, 3)"
   ]
  },
  {
   "cell_type": "code",
   "execution_count": 6,
   "id": "a11e9758",
   "metadata": {},
   "outputs": [],
   "source": [
    "# Return original image\n",
    "def return_image(original_image):\n",
    "    \"\"\"Pass original image without any modifying\n",
    "\n",
    "    :param original_image: original image\n",
    "    :return: original image\n",
    "    \"\"\"\n",
    "    return original_image"
   ]
  },
  {
   "cell_type": "code",
   "execution_count": 7,
   "id": "1f8d4a8d",
   "metadata": {},
   "outputs": [],
   "source": [
    "def tesseract(given_image):\n",
    "    \"\"\"Recognize text in given image using tesseract.\n",
    "\n",
    "    :param given_image: image to be recognized by tesseract\n",
    "    :return: text given by tesseract\n",
    "    \"\"\"\n",
    "    pytesseract.pytesseract.tesseract_cmd =r'C:\\Program Files\\Tesseract-OCR\\tesseract'\n",
    "    return pytesseract.image_to_string(given_image, lang='eng',\n",
    "                                       config=\"-psm 6 digits\")"
   ]
  }
 ],
 "metadata": {
  "jupytext": {
   "cell_metadata_filter": "-all",
   "main_language": "python",
   "notebook_metadata_filter": "-all"
  },
  "kernelspec": {
   "display_name": "Python 3 (ipykernel)",
   "language": "python",
   "name": "python3"
  },
  "language_info": {
   "codemirror_mode": {
    "name": "ipython",
    "version": 3
   },
   "file_extension": ".py",
   "mimetype": "text/x-python",
   "name": "python",
   "nbconvert_exporter": "python",
   "pygments_lexer": "ipython3",
   "version": "3.9.12"
  }
 },
 "nbformat": 4,
 "nbformat_minor": 5
}
