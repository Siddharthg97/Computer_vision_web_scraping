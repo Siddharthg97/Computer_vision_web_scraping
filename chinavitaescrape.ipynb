{
 "cells": [
  {
   "cell_type": "code",
   "execution_count": 1,
   "id": "6e10178a",
   "metadata": {},
   "outputs": [],
   "source": [
    "from bs4 import BeautifulSoup as bs \n",
    "import requests \n",
    "import json\n",
    "import pandas as pd\n",
    "import io\n",
    "\n",
    "def chinascrape(pep):\n",
    "    url = 'https://www.chinavitae.com/biography/'+pep\n",
    "    print(url)\n",
    "    response = requests.get(url)\n",
    "    soup = bs(response.content, \"html.parser\")\n",
    "    #response.encoding = 'utf-8'\n",
    "    #j=response.json\n",
    "    #jsonda=response.json\n",
    "    text = soup.get_text(' | ',strip=True)\n",
    "    print(text)\n",
    "    delim=\" | \"\n",
    "    ntext=text.split(delim)\n",
    "    inxb=ntext.index(\"Born:\")\n",
    "    dobtxt=ntext[inxb+1]\n",
    "    print(dobtxt)\n",
    "    #print(ntext)\n",
    "    inxp=ntext.index(\"Birthplace:\")\n",
    "    pobtxt=ntext[inxp+1]\n",
    "    print(pobtxt)\n",
    "    return(text,dobtxt,pobtxt)"
   ]
  },
  {
   "cell_type": "code",
   "execution_count": 2,
   "id": "9b8b2fb8",
   "metadata": {},
   "outputs": [
    {
     "name": "stdout",
     "output_type": "stream",
     "text": [
      "https://www.chinavitae.com/biography/Cui_Tiankai\n",
      "China Vitae : Biography of Cui Tiankai | China Vitae | Home | Search | Reference | VIP Appearances | New Appointments | About | FAQ | Contact | [sources / revisions] | Compiled from the following sources: | Special biographic research | Wen Wei Publishing Company, Ltd. 2002-2006 | XINHUA Online (China View) | Revision History: | Biography Revised: | 7/29/2021 | Career Data Updated: | 7/29/2021 | Cui Tiankai | 崔天凯 | Former Ambassador to the United States | Born: | 1952 | Birthplace: | Shanghai Municipality | At-a-Glance | Biography | Career Data | Travel & Appearances | Full Listing | Biography Highlight | Cui Tiankai, male, was born in 1952. He is a native of Ningbo, Zhejiang Province. Majored in School of Foreign Languages of East China Normal University. Postgraduate from School of Advanced International Studies of Johns Hopkins University. Master of Public Administration. He was Vice-Minister of the Ministry of Foreign Affairs from 2010 to 2013, and prior to that, Chinese ambassador to Japan. | View complete biography | » | Recent Career Data | 2013—2021 | Ambassador | , | Chinese Embassy | USA | , | Washington D.C. | § | 2010—2013 | Vice-Minister | , | Ministry of Foreign Affairs | § | 2007—2010 | Ambassador | , | Chinese Embassy | Japan | , | Tokyo | 2006—2007 | Assistant Minister | , | Ministry of Foreign Affairs | 2003—2006 | Director | , | Ministry of Foreign Affairs | , | Asian Affairs Department | 2001—2003 | Director | , | Ministry of Foreign Affairs | , | Policy Research Office | 1999—2001 | Deputy Director | , | Ministry of Foreign Affairs | , | Policy Research Office | 1997—1999 | Counselor | , | Permanent Mission of the PRC to the United Nations | 1996—1997 | Deputy Director | , | Ministry of Foreign Affairs | , | Information Department | 1996—1997 | Spokesperson | , | Ministry of Foreign Affairs | View complete career data | » | Recent Travel & Appearances | 05/06/21 | Cui Tiankai says China will not acquiesce to any external attempt to destabilize Xinjiang | 03/26/21 | Cui Tiankai was interviewed by CNN's Christiane Amanpour, says Attempts to divide the world into different camps are not solutions to global challenges including the battle against the COVID-19 pandemic, climate change and poverty | 03/17/21 | Cui Tiankai said China will not compromise on core interests during the upcoming high-level strategic dialogue between top diplomats of China and the United States. | 05/05/20 | Cui Tiankai called on U.S. politicians to end the blame-China game and focus on tackling the COVID-19 pandemic which has killed over 70,000 Americans. | 04/11/20 | Cui Tiankai calls for greater global governance system, closer Sino-U.S. cooperation to better combat COVID-19, adds all countries should also reject politicization attempts | View more travel & appearance listing | » | Compare | Compare the backgrounds and careers of an unlimited number of officials whose biographies you have recently viewed. | Recently Viewed | [clear all] | Biographies | [clear] | Select officials you would like to compare: | Cui Tiankai | Strict comparison | Relaxed comparison | Appearances | [clear] | Institutions | [clear] | Locations | [clear] | Searches | [clear] | © 2003-2024 China Vitae | | Contact Us | | | Privacy | | | Donations\n",
      "1952\n",
      "Shanghai Municipality\n"
     ]
    },
    {
     "data": {
      "text/plain": [
       "(\"China Vitae : Biography of Cui Tiankai | China Vitae | Home | Search | Reference | VIP Appearances | New Appointments | About | FAQ | Contact | [sources / revisions] | Compiled from the following sources: | Special biographic research | Wen Wei Publishing Company, Ltd. 2002-2006 | XINHUA Online (China View) | Revision History: | Biography Revised: | 7/29/2021 | Career Data Updated: | 7/29/2021 | Cui Tiankai | 崔天凯 | Former Ambassador to the United States | Born: | 1952 | Birthplace: | Shanghai Municipality | At-a-Glance | Biography | Career Data | Travel & Appearances | Full Listing | Biography Highlight | Cui Tiankai, male, was born in 1952. He is a native of Ningbo, Zhejiang Province. Majored in School of Foreign Languages of East China Normal University. Postgraduate from School of Advanced International Studies of Johns Hopkins University. Master of Public Administration. He was Vice-Minister of the Ministry of Foreign Affairs from 2010 to 2013, and prior to that, Chinese ambassador to Japan. | View complete biography | » | Recent Career Data | 2013—2021 | Ambassador | , | Chinese Embassy | USA | , | Washington D.C. | § | 2010—2013 | Vice-Minister | , | Ministry of Foreign Affairs | § | 2007—2010 | Ambassador | , | Chinese Embassy | Japan | , | Tokyo | 2006—2007 | Assistant Minister | , | Ministry of Foreign Affairs | 2003—2006 | Director | , | Ministry of Foreign Affairs | , | Asian Affairs Department | 2001—2003 | Director | , | Ministry of Foreign Affairs | , | Policy Research Office | 1999—2001 | Deputy Director | , | Ministry of Foreign Affairs | , | Policy Research Office | 1997—1999 | Counselor | , | Permanent Mission of the PRC to the United Nations | 1996—1997 | Deputy Director | , | Ministry of Foreign Affairs | , | Information Department | 1996—1997 | Spokesperson | , | Ministry of Foreign Affairs | View complete career data | » | Recent Travel & Appearances | 05/06/21 | Cui Tiankai says China will not acquiesce to any external attempt to destabilize Xinjiang | 03/26/21 | Cui Tiankai was interviewed by CNN's Christiane Amanpour, says Attempts to divide the world into different camps are not solutions to global challenges including the battle against the COVID-19 pandemic, climate change and poverty | 03/17/21 | Cui Tiankai said China will not compromise on core interests during the upcoming high-level strategic dialogue between top diplomats of China and the United States. | 05/05/20 | Cui Tiankai called on U.S. politicians to end the blame-China game and focus on tackling the COVID-19 pandemic which has killed over 70,000 Americans. | 04/11/20 | Cui Tiankai calls for greater global governance system, closer Sino-U.S. cooperation to better combat COVID-19, adds all countries should also reject politicization attempts | View more travel & appearance listing | » | Compare | Compare the backgrounds and careers of an unlimited number of officials whose biographies you have recently viewed. | Recently Viewed | [clear all] | Biographies | [clear] | Select officials you would like to compare: | Cui Tiankai | Strict comparison | Relaxed comparison | Appearances | [clear] | Institutions | [clear] | Locations | [clear] | Searches | [clear] | © 2003-2024 China Vitae | | Contact Us | | | Privacy | | | Donations\",\n",
       " '1952',\n",
       " 'Shanghai Municipality')"
      ]
     },
     "execution_count": 2,
     "metadata": {},
     "output_type": "execute_result"
    }
   ],
   "source": [
    "pep='Cui_Tiankai'\n",
    "chinascrape(pep)"
   ]
  },
  {
   "cell_type": "code",
   "execution_count": 2,
   "id": "0eeaed16",
   "metadata": {},
   "outputs": [
    {
     "name": "stdout",
     "output_type": "stream",
     "text": [
      "5251\n",
      "5227\n",
      "/photos/Cui.Tiankai.4375.jpg\n",
      "https://www.chinavitae.com/photos/Cui.Tiankai.4375.jpg\n"
     ]
    }
   ],
   "source": [
    "#image extraction chinavitae\n",
    "\n",
    "# txt1=response.text\n",
    "# #print(txt1)\n",
    "# inxpdf=txt1.find('.jpg')\n",
    "# print(inxpdf)\n",
    "# inxhttp=txt1.find('/photos',inxpdf-100,inxpdf)\n",
    "# print(inxhttp)\n",
    "# urlpdf=txt1[inxhttp:inxpdf+4]\n",
    "# print(urlpdf)\n",
    "# picurl='https://www.chinavitae.com'+urlpdf\n",
    "# print(picurl)\n",
    "# response1 = requests.get(picurl)\n",
    "# #print(response.content)\n",
    "# imgname=pep+'.jpg'\n",
    "# with open(imgname, 'wb') as handler:\n",
    "#     handler.write(response1.content)"
   ]
  },
  {
   "cell_type": "code",
   "execution_count": 5,
   "id": "f4de3390",
   "metadata": {},
   "outputs": [
    {
     "name": "stdout",
     "output_type": "stream",
     "text": [
      " * Serving Flask app '__main__'\n",
      " * Debug mode: off\n"
     ]
    },
    {
     "name": "stderr",
     "output_type": "stream",
     "text": [
      "WARNING: This is a development server. Do not use it in a production deployment. Use a production WSGI server instead.\n",
      " * Running on http://127.0.0.1:3351\n",
      "Press CTRL+C to quit\n"
     ]
    }
   ],
   "source": [
    "import flask\n",
    "from flask import Flask, request, jsonify\n",
    "\n",
    "app = Flask(__name__)\n",
    "\n",
    "# Route to accept input data and process it\n",
    "@app.route('/test1', methods=['GET','POST'])\n",
    "def predict_without_keywords():\n",
    "    input_data = request.get_json(force=True) \n",
    "    processed_data = chinascrape(input_data)\n",
    "    return jsonify(processed_data) \n",
    "\n",
    "if __name__ == '__main__':\n",
    "    app.run(port = 3351, debug=False)\n",
    "\n"
   ]
  },
  {
   "cell_type": "code",
   "execution_count": null,
   "id": "76a78070-4820-4424-a683-3394b0131a60",
   "metadata": {},
   "outputs": [],
   "source": []
  }
 ],
 "metadata": {
  "kernelspec": {
   "display_name": "Python 3 (ipykernel)",
   "language": "python",
   "name": "python3"
  },
  "language_info": {
   "codemirror_mode": {
    "name": "ipython",
    "version": 3
   },
   "file_extension": ".py",
   "mimetype": "text/x-python",
   "name": "python",
   "nbconvert_exporter": "python",
   "pygments_lexer": "ipython3",
   "version": "3.11.7"
  }
 },
 "nbformat": 4,
 "nbformat_minor": 5
}
