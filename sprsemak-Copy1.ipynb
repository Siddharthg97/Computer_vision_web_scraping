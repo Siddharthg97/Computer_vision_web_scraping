{
 "cells": [
  {
   "cell_type": "markdown",
   "id": "fadda078",
   "metadata": {},
   "source": [
    "pip install opencv-python\n",
    "pip install pytesseract\n",
    "pip install selenium\n",
    "pip install typing_extensions"
   ]
  },
  {
   "cell_type": "code",
   "execution_count": 1,
   "id": "5cda4073",
   "metadata": {},
   "outputs": [],
   "source": [
    "# pip install Preprocessing"
   ]
  },
  {
   "cell_type": "code",
   "execution_count": 2,
   "id": "bda041de",
   "metadata": {
    "scrolled": true
   },
   "outputs": [],
   "source": [
    "# pip install webdriver-manager"
   ]
  },
  {
   "cell_type": "code",
   "execution_count": 1,
   "id": "d5beb946",
   "metadata": {},
   "outputs": [
    {
     "name": "stderr",
     "output_type": "stream",
     "text": [
      "C:\\Users\\MBBLABS\\anaconda3\\lib\\site-packages\\pandas\\core\\computation\\expressions.py:21: UserWarning: Pandas requires version '2.8.4' or newer of 'numexpr' (version '2.8.1' currently installed).\n",
      "  from pandas.core.computation.check import NUMEXPR_INSTALLED\n",
      "C:\\Users\\MBBLABS\\anaconda3\\lib\\site-packages\\pandas\\core\\arrays\\masked.py:60: UserWarning: Pandas requires version '1.3.6' or newer of 'bottleneck' (version '1.3.4' currently installed).\n",
      "  from pandas.core import (\n"
     ]
    }
   ],
   "source": [
    "%run Preprocessing.ipynb"
   ]
  },
  {
   "cell_type": "code",
   "execution_count": 3,
   "id": "edcbc670",
   "metadata": {
    "scrolled": true
   },
   "outputs": [
    {
     "name": "stderr",
     "output_type": "stream",
     "text": [
      "C:\\Users\\MBBLABS\\anaconda3\\lib\\site-packages\\pandas\\core\\computation\\expressions.py:21: UserWarning: Pandas requires version '2.8.4' or newer of 'numexpr' (version '2.8.1' currently installed).\n",
      "  from pandas.core.computation.check import NUMEXPR_INSTALLED\n",
      "C:\\Users\\MBBLABS\\anaconda3\\lib\\site-packages\\pandas\\core\\arrays\\masked.py:60: UserWarning: Pandas requires version '1.3.6' or newer of 'bottleneck' (version '1.3.4' currently installed).\n",
      "  from pandas.core import (\n"
     ]
    }
   ],
   "source": [
    "import requests\n",
    "#import cv2\n",
    "import numpy as np\n",
    "\n",
    "import pytesseract\n",
    "import cv2\n",
    "from matplotlib import pyplot as plt\n",
    "import re\n",
    "import requests\n",
    "from bs4 import BeautifulSoup"
   ]
  },
  {
   "cell_type": "code",
   "execution_count": 6,
   "id": "0bc5d62d",
   "metadata": {},
   "outputs": [],
   "source": [
    "import cv2\n",
    "from bs4 import BeautifulSoup\n",
    "import requests\n",
    "import pytesseract\n",
    "import warnings\n",
    "warnings.filterwarnings(\"ignore\")"
   ]
  },
  {
   "cell_type": "code",
   "execution_count": null,
   "id": "6fd40315",
   "metadata": {},
   "outputs": [],
   "source": []
  },
  {
   "cell_type": "code",
   "execution_count": 4,
   "id": "1a2cf0de",
   "metadata": {},
   "outputs": [],
   "source": [
    "# Get image from external file(path)\n",
    "def get_image_path(path):\n",
    "    \"\"\"Load image from local directory.\n",
    "\n",
    "    :param path: given path where image is stored\n",
    "    :return: image loaded from directory\n",
    "    \"\"\"\n",
    "    loaded_image = cv2.imread(path)\n",
    "    loaded_image = cv2.cvtColor(loaded_image, cv2.COLOR_BGR2GRAY)\n",
    "    label = ((path.split('/')[-1]).split('\\\\')[-1]).split('.')[0]\n",
    "    return loaded_image, label"
   ]
  },
  {
   "cell_type": "code",
   "execution_count": null,
   "id": "24f5ceb5",
   "metadata": {},
   "outputs": [],
   "source": []
  },
  {
   "cell_type": "code",
   "execution_count": 8,
   "id": "720e1854",
   "metadata": {},
   "outputs": [],
   "source": [
    "import cv2\n",
    "loaded_image=cv2.imread(\"C:/Users/MBBLABS/Documents/Web Scrapping/captcha1\")\n"
   ]
  },
  {
   "cell_type": "code",
   "execution_count": 5,
   "id": "accde0aa",
   "metadata": {},
   "outputs": [],
   "source": [
    "# Download captcha images from link and save\n",
    "def get_image_link(link):\n",
    "    \"\"\"Download image from given url.\n",
    "\n",
    "    :param link: given url where image is located\n",
    "    :return: image downloaded from url\n",
    "    \"\"\"\n",
    "    req = requests.get(link)\n",
    "    try:\n",
    "        req.raise_for_status()\n",
    "    except Exception as exc:\n",
    "        print('There was a problem: %s' % exc)\n",
    "    loaded_image = req.content\n",
    "    loaded_image = cv2.imdecode(np.asarray(bytearray(loaded_image)), 1)\n",
    "    loaded_image = cv2.cvtColor(loaded_image, cv2.COLOR_BGR2GRAY)\n",
    "    return loaded_image"
   ]
  },
  {
   "cell_type": "code",
   "execution_count": 6,
   "id": "7a9f5828",
   "metadata": {},
   "outputs": [],
   "source": [
    "# Determine if input is link or path & return image\n",
    "def get_image(which):\n",
    "    \"\"\"Decide if parameter is a link or directory, and load image from it.\n",
    "\n",
    "    :param which: link or directory to where image is located\n",
    "    :return: image pulled from link or directory\n",
    "    \"\"\"\n",
    "    try:\n",
    "        image = get_image_link(which)\n",
    "        return image\n",
    "    except:\n",
    "        try:\n",
    "            image, label = get_image_path(which)\n",
    "            return image\n",
    "        except:\n",
    "            print('Load error. Try again')"
   ]
  },
  {
   "cell_type": "code",
   "execution_count": 7,
   "id": "e361a9ef",
   "metadata": {},
   "outputs": [],
   "source": [
    "# Blur image\n",
    "def blur_image(original_image):\n",
    "    \"\"\"Blur image using median filter.\n",
    "\n",
    "    :param original_image: original image to be blurred\n",
    "    :return: blurred image\n",
    "    \"\"\"\n",
    "    return cv2.medianBlur(original_image, 3)"
   ]
  },
  {
   "cell_type": "code",
   "execution_count": 8,
   "id": "341b54cf",
   "metadata": {},
   "outputs": [],
   "source": [
    "# Closing (Dilation -> Erosion)\n",
    "def morph_image(original_image):\n",
    "    \"\"\"Close(dilate and erode) given image to erase occluding lines.\n",
    "\n",
    "    :param original_image: original image to be closed\n",
    "    :return: closed image\n",
    "    \"\"\"\n",
    "    kernel = cv2.getStructuringElement(cv2.MORPH_RECT, (2, 4))\n",
    "    mor_img = cv2.morphologyEx(original_image, cv2.MORPH_CLOSE, kernel)\n",
    "    return mor_img"
   ]
  },
  {
   "cell_type": "code",
   "execution_count": 9,
   "id": "0e608405",
   "metadata": {},
   "outputs": [],
   "source": [
    "# Image Cropping\n",
    "def crop_image(original_image):\n",
    "    \"\"\"Crop margin out of given images.\n",
    "\n",
    "    :param original_image: original image to be cropped\n",
    "    :return: cropped image\n",
    "    \"\"\"\n",
    "    cut = 5     # Boundary of image that is definitely not text\n",
    "    x_list, y_list = [], []\n",
    "    corners = cv2.goodFeaturesToTrack(original_image, 200, 0.01, 6)\n",
    "    corners = np.int0(corners)\n",
    "    for i in corners:\n",
    "        x, y = i.ravel()\n",
    "        if x > cut and y > cut:\n",
    "            x_list.append(x)\n",
    "            y_list.append(y)\n",
    "    xl = min(x_list)\n",
    "    xr = max(x_list)\n",
    "    yt = min(y_list)\n",
    "    yb = max(y_list)\n",
    "\n",
    "    cr_img = cv2.copyMakeBorder(original_image[yt:yb, xl:xr],\n",
    "                                5, 5, 5, 5, cv2.BORDER_CONSTANT, value=255)\n",
    "    return cr_img"
   ]
  },
  {
   "cell_type": "code",
   "execution_count": 10,
   "id": "98cfc20c",
   "metadata": {},
   "outputs": [],
   "source": [
    "# Binarisation & Noise Removal\n",
    "def bw(original_image):\n",
    "    \"\"\"Binarise given image to make it black & white.\n",
    "\n",
    "    :param original_image: original image to be binarised\n",
    "    :return: binarised image\n",
    "    \"\"\"\n",
    "    t1 = original_image[0][0]\n",
    "    t2 = original_image[0][original_image.shape[1]-1]\n",
    "    t3 = original_image[original_image.shape[0]-1][0]\n",
    "    t4 = original_image[original_image.shape[0]-1][original_image.shape[1]-1]\n",
    "    t = min(t1, t2, t3, t4)\n",
    "    if t > 250:\n",
    "        bw_img = cv2.adaptiveThreshold(original_image, 255,\n",
    "                                       cv2.ADAPTIVE_THRESH_GAUSSIAN_C,\n",
    "                                       cv2.THRESH_BINARY, 15, 2)\n",
    "    else:\n",
    "        thresh, bw_img = cv2.threshold(original_image, t, 255,\n",
    "                                       cv2.THRESH_BINARY)\n",
    "    return bw_img"
   ]
  },
  {
   "cell_type": "code",
   "execution_count": 11,
   "id": "deb00af3",
   "metadata": {},
   "outputs": [],
   "source": [
    "import selenium\n",
    "from selenium import webdriver\n",
    "from selenium.webdriver.common.keys import Keys\n",
    "from selenium.webdriver.support.ui import Select\n",
    "from selenium.webdriver.chrome.service import Service\n",
    "from selenium.common.exceptions import NoSuchElementException\n",
    "from selenium.common.exceptions import NoAlertPresentException\n",
    "from selenium.webdriver.common.by import By\n",
    "from selenium.webdriver.support import expected_conditions as EC\n",
    "from selenium.webdriver.support.ui import WebDriverWait\n",
    "from selenium.webdriver import ActionChains\n",
    "import unittest, time\n",
    "import sys\n",
    "import pandas as pd\n",
    "import numpy as np \n",
    "import logbook, csv\n",
    "from lxml import html\n",
    "import os\n",
    "# import Preprocessing as ps\n",
    "\n",
    "from selenium import webdriver\n",
    "from selenium.webdriver.chrome.service import Service\n",
    "from selenium.common.exceptions import NoSuchElementException"
   ]
  },
  {
   "cell_type": "code",
   "execution_count": 12,
   "id": "cd2df1d4",
   "metadata": {},
   "outputs": [],
   "source": [
    "# step -1)  need web driver\n",
    "#The WebDriver language APIs provides ways to pass capabilities to ChromeDriver.\n",
    "#The exact mechanism differs by the language, but most languages use one or both of the following mechanisms:\n",
    "\n",
    "#step-2) now from search engine application migrate to our required url using driver object\n",
    "# step-3) driver.execute script\n",
    "# step-4) driver.find_element by xpath where id we need to send id as keys if input is required otherwise like if only captcha required thn no key is to ge given\n",
    "# \n",
    "\n",
    "\n"
   ]
  },
  {
   "cell_type": "code",
   "execution_count": 14,
   "id": "4d0d75ec",
   "metadata": {
    "scrolled": true
   },
   "outputs": [
    {
     "name": "stderr",
     "output_type": "stream",
     "text": [
      "There was an error managing geckodriver (Access is denied. (os error 5)); using driver found in the cache\n",
      "There was an error managing firefox; using browser found in the cache\n"
     ]
    }
   ],
   "source": [
    "service = Service('C:/Program Files (x86)/Google/Chrome/Application/chrome.exe')\n",
    "options = webdriver.ChromeOptions()#1\n",
    "driver = webdriver.Firefox()#service=service, options=options)\n",
    "\n",
    "driver.get('https://mysprsemak.spr.gov.my/semakan/daftarPemilih') #2"
   ]
  },
  {
   "cell_type": "code",
   "execution_count": 15,
   "id": "b3060bcd",
   "metadata": {},
   "outputs": [],
   "source": [
    "driver.execute_script(\"document.body.style.zoom='500%'\")  "
   ]
  },
  {
   "cell_type": "code",
   "execution_count": 16,
   "id": "e756ccad",
   "metadata": {},
   "outputs": [],
   "source": [
    "driver.find_element(By.XPATH,\"//*[@name='NoKp']\").send_keys('000201101765')"
   ]
  },
  {
   "cell_type": "code",
   "execution_count": null,
   "id": "c2a9077f",
   "metadata": {},
   "outputs": [],
   "source": [
    "captcha_element = driver.find_element(By.XPATH,\"//*[@id='img_captcha']/img\")"
   ]
  },
  {
   "cell_type": "code",
   "execution_count": 13,
   "id": "6b9f1ef2",
   "metadata": {},
   "outputs": [
    {
     "name": "stderr",
     "output_type": "stream",
     "text": [
      "There was an error managing geckodriver (Access is denied. (os error 5)); using driver found in the cache\n",
      "There was an error managing firefox; using browser found in the cache\n"
     ]
    },
    {
     "name": "stdout",
     "output_type": "stream",
     "text": [
      "420\n",
      "login failed\n",
      "6555\n",
      "Login successful\n",
      "1\n",
      "['MAKLUMAT PERIBADI PEMILIH', 'Nama Penuh TAN KAH ONN', 'No. Kad Pengenalan 000201101765', 'Tarikh Lahir 1 FEBRUARI 2000', 'Jantina LELAKI']\n",
      "['095 / 09 / 15 / 001 - BAGAN PASIR']\n",
      "['Penuh', 'TAN', 'KAH', 'ONN']\n"
     ]
    }
   ],
   "source": [
    "# os.chdir('C:/Users/00144791/Automation/TMNS/SAMPLE')\n",
    "img = captcha_element.screenshot('C:\\\\Users\\\\MBBLABS\\\\Documents\\\\Web Scrapping\\\\captcha2.png')\n",
    "# loaded_image = cv2.imdecode(np.asarray(bytearray(img)), 1)\n",
    "# loaded_image = cv2.cvtColor(loaded_image, cv2.COLOR_BGR2GRAY)\n",
    "# f = open(\"filename.png\", 'wb')\n",
    "# # data being whatever data you wanted to write\n",
    "# f.write(loaded_image)\n",
    "#img = Image.open(StringIO(img))\n",
    "myimage=get_image('C:\\\\Users\\\\MBBLABS\\\\Documents\\\\Web Scrapping\\\\captcha2.png')\n",
    "# window_name = 'Image'\n",
    "# cv2.imshow(window_name, myimage)\n",
    "# cv2.waitKey(0)\n",
    "# window_name = 'Image'\n",
    "# cv2.imshow(window_name, myimage)\n",
    "# # cv2.imshow('Window',mimg)\n",
    "# cv2.waitKey(0)\n",
    "#img = fox.get_screenshot_as_png() and then img = Image.open(StringIO(img))\n",
    "crimg=crop_image(myimage)\n",
    "bwimg=bw(myimage)\n",
    "mimg=morph_image(myimage)\n",
    "median = cv2.medianBlur(myimage, 5)\n",
    "#window_name = 'Image'\n",
    "#cv2.imshow(window_name, myimage)\n",
    "# cv2.imshow('Window',median)\n",
    "# cv2.waitKey(0)\n",
    "pytesseract.pytesseract.tesseract_cmd =r'C:\\Users\\MBBLABS\\Tesseract-OCR\\tesseract'\n",
    "#         r'C:/Users/MBBLABS/anaconda3/Lib/site-packages/pytesseract/pytesseract'\n",
    "# txt=pytesseract.image_to_string(median,lang='eng',config=\"--psm 4\")\n",
    "# output=txt.replace(\" \", \"\").strip()\n",
    "txt=pytesseract.image_to_string(median,config='--psm 10 --oem 3 -c tessedit_char_whitelist=0123456789')#,lang='eng',config=\"-psm 4\") \n",
    "#txt1=ps.tesseract(mimg)\n",
    "output=txt.strip()\n",
    "print(output)\n",
    "# print(txt)\n",
    "\n",
    "driver.find_element(By.XPATH,\"//*[@name='captcha']\").send_keys(output)\n",
    "time.sleep(2)\n",
    "driver.find_element(By.XPATH,\"//*[@type='submit']\").click()\n",
    "\n",
    "log=0\n",
    "while 4==4:\n",
    "    try:\n",
    "        driver.find_element(By.CLASS_NAME,\"text-red-600\")\n",
    "        print('login failed')\n",
    "    except NoSuchElementException:\n",
    "        print('Login successful')\n",
    "        log=1\n",
    "        break\n",
    "    if log==0:\n",
    "        driver.find_element(By.XPATH,\"//*[@name='NoKp']\").send_keys('000201101765')\n",
    "        captcha_element = driver.find_element(By.XPATH,\"//*[@id='img_captcha']/img\")\n",
    "        # os.chdir('C:/Users/00144791/Automation/TMNS/SAMPLE')\n",
    "        img = captcha_element.screenshot('C:\\\\Users\\\\MBBLABS\\\\Documents\\\\Web Scrapping\\\\captcha2.png')\n",
    "        # loaded_image = cv2.imdecode(np.asarray(bytearray(img)), 1)\n",
    "        # loaded_image = cv2.cvtColor(loaded_image, cv2.COLOR_BGR2GRAY)\n",
    "        # f = open(\"filename.png\", 'wb')\n",
    "        # # data being whatever data you wanted to write\n",
    "        # f.write(loaded_image)\n",
    "        #img = Image.open(StringIO(img))\n",
    "        myimage=get_image('C:\\\\Users\\\\MBBLABS\\\\Documents\\\\Web Scrapping\\\\captcha2.png')\n",
    "#         window_name = 'Image'\n",
    "#         cv2.imshow(window_name, myimage)\n",
    "#         cv2.waitKey(0)\n",
    "        #img = fox.get_screenshot_as_png() and then img = Image.open(StringIO(img))\n",
    "        crimg=crop_image(myimage)\n",
    "        bwimg=bw(myimage)\n",
    "        mimg=morph_image(myimage)\n",
    "        median = cv2.medianBlur(myimage, 5)\n",
    "        #window_name = 'Image'\n",
    "        #cv2.imshow(window_name, myimage)\n",
    "        # cv2.imshow('Window',mimg)\n",
    "        # cv2.waitKey(0)\n",
    "        pytesseract.pytesseract.tesseract_cmd =r'C:\\Users\\MBBLABS\\Tesseract-OCR\\tesseract'\n",
    "               # r'C:\\Program Files\\Tesseract-OCR\\tesseract'\n",
    "        # txt=pytesseract.image_to_string(median,lang='eng',config=\"--psm 4\")\n",
    "        # output=txt.replace(\" \", \"\").strip()\n",
    "        txt=pytesseract.image_to_string(median,config='--psm 10 --oem 3 -c tessedit_char_whitelist=0123456789')#,lang='eng',config=\"-psm 4\") \n",
    "        #txt1=ps.tesseract(mimg)\n",
    "        output=txt.strip()\n",
    "        print(output)\n",
    "        # print(txt)\n",
    "\n",
    "        driver.find_element(By.XPATH,\"//*[@name='captcha']\").send_keys(output)\n",
    "        time.sleep(2)\n",
    "        driver.find_element(By.XPATH,\"//*[@type='submit']\").click()\n",
    "print(log)\n",
    "table1=driver.find_element(By.XPATH,\"/html/body/div[1]/main/div/div[2]/div/div[1]/table\").text\n",
    "table2=driver.find_element(By.XPATH,\"//*[@class='mx-4']/div[2]/table/tbody/tr/td[2]\").text\n",
    "text1=table1.split(\"\\n\")#.split(\" \")\n",
    "print(text1)\n",
    "text2=table2.split(\"\\n\")#.split(\" \")\n",
    "print(text2)\n",
    "#ninx=text1.index(\"Nama\")\n",
    "icno=text1[1]\n",
    "icsplit=icno.split(\" \")\n",
    "print(icsplit[1:])\n",
    "\n",
    "# for i in icsplit[1:]:\n",
    "#     j=i+j\n",
    "    \n",
    "# print(j)\n",
    "    \n",
    "# driver.close()\n",
    "#print(driver.find_element(By.XPATH,\"/html/body/div[1]/main/div/div[2]/div/div[2]/table\").text[1])\n",
    "\n",
    "#driver.find_element(By.CLASS_NAME,\"text-red-600\")\n",
    "# else:\n",
    "#driver.page_source()"
   ]
  },
  {
   "cell_type": "code",
   "execution_count": null,
   "id": "011be97e",
   "metadata": {},
   "outputs": [],
   "source": []
  }
 ],
 "metadata": {
  "kernelspec": {
   "display_name": "Python 3 (ipykernel)",
   "language": "python",
   "name": "python3"
  },
  "language_info": {
   "codemirror_mode": {
    "name": "ipython",
    "version": 3
   },
   "file_extension": ".py",
   "mimetype": "text/x-python",
   "name": "python",
   "nbconvert_exporter": "python",
   "pygments_lexer": "ipython3",
   "version": "3.9.12"
  }
 },
 "nbformat": 4,
 "nbformat_minor": 5
}
